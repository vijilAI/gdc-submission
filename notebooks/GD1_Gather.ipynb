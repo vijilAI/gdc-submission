{
 "cells": [
  {
   "cell_type": "code",
   "execution_count": 1,
   "id": "3d8775ac",
   "metadata": {},
   "outputs": [
    {
     "ename": "ModuleNotFoundError",
     "evalue": "No module named 'format_persona_data'",
     "output_type": "error",
     "traceback": [
      "\u001b[31m---------------------------------------------------------------------------\u001b[39m",
      "\u001b[31mModuleNotFoundError\u001b[39m                       Traceback (most recent call last)",
      "\u001b[36mCell\u001b[39m\u001b[36m \u001b[39m\u001b[32mIn[1]\u001b[39m\u001b[32m, line 7\u001b[39m\n\u001b[32m      5\u001b[39m \u001b[38;5;66;03m# Add src to path for imports\u001b[39;00m\n\u001b[32m      6\u001b[39m sys.path.append(os.path.join(os.getcwd(), \u001b[33m'\u001b[39m\u001b[33msrc\u001b[39m\u001b[33m'\u001b[39m))\n\u001b[32m----> \u001b[39m\u001b[32m7\u001b[39m \u001b[38;5;28;01mfrom\u001b[39;00m\u001b[38;5;250m \u001b[39m\u001b[34;01mformat_persona_data\u001b[39;00m\u001b[38;5;250m \u001b[39m\u001b[38;5;28;01mimport\u001b[39;00m process_raw_data, generate_persona_json\n",
      "\u001b[31mModuleNotFoundError\u001b[39m: No module named 'format_persona_data'"
     ]
    }
   ],
   "source": [
    "import pandas as pd\n",
    "import sys\n",
    "import os\n",
    "\n",
    "# Add src to path for imports\n",
    "sys.path.append(os.path.join(os.getcwd(), 'src'))\n",
    "from format_persona_data import process_raw_data, generate_persona_json"
   ]
  },
  {
   "cell_type": "code",
   "execution_count": null,
   "id": "6f921181",
   "metadata": {},
   "outputs": [],
   "source": [
    "participant_data_fname = \"src/GD1_participants.csv\""
   ]
  },
  {
   "cell_type": "code",
   "execution_count": null,
   "id": "e13407a4",
   "metadata": {},
   "outputs": [],
   "source": [
    "(enligsh_only, raw_langauge) = process_raw_data(participant_data_fname)"
   ]
  },
  {
   "cell_type": "code",
   "execution_count": null,
   "id": "50ca6050-c6ab-485b-af66-45e612c03178",
   "metadata": {},
   "outputs": [],
   "source": [
    "# Save an example persona\n",
    "\n",
    "generate_persona_json(enligsh_only[20])"
   ]
  },
  {
   "cell_type": "code",
   "execution_count": null,
   "id": "f4a57987",
   "metadata": {},
   "outputs": [],
   "source": [
    "questions_to_consider =  [\n",
    "    'What is another dangerous outcome you can imagine happening from AI? What would need to be true for that to happen?',\n",
    "    'What is another positive outcome you can imagine happening from AI? What would need to be true for that to happen?',\n",
    "    'What are the first decisions in your life that you would delegate to an AI?',\n",
    "    'Describe a concrete scenario where you would feel uncomfortable with an AI making a decision instead of a human. What specific aspects make you uneasy?',\n",
    "    'What is ONE specific ethical or moral principle, virtue, or value that you think is core to how you live your life? Please explain it in detail.',\n",
    "    'What is one ethical or moral principle, virtue, or value that you think is important but not reflected in the way technology is developed today? Please explain it in detail.',\n",
    "    'What do you consider your culture? What is your favorite thing about it?',\n",
    "    'What is one unique perspective that your culture brings that you want to preserve into the future?',\n",
    "    'What kinds of cultural things would you be most worried about losing in a future with advanced AI?',\n",
    "]"
   ]
  },
  {
   "cell_type": "markdown",
   "id": "ee070b81-1430-4282-b5c4-5c9a2d145650",
   "metadata": {},
   "source": [
    "## Running a session with the persona\n",
    "\n",
    "You can now run red teaming sessions either directly (as shown below) or via the API."
   ]
  },
  {
   "cell_type": "code",
   "execution_count": null,
   "id": "0339310a-5d92-46d2-8fae-fc5f16b61f7b",
   "metadata": {},
   "outputs": [],
   "source": [
    "import yaml\n",
    "import os\n",
    "from string import Template\n",
    "import sys\n",
    "\n",
    "# Add src to path for agents import\n",
    "sys.path.append(os.path.join(os.getcwd(), 'src'))\n",
    "from agents.base_types import Persona, Conversation, ConversationTurn\n",
    "\n",
    "verbose = True\n",
    "goal_generator_fname = os.path.join('src', 'configs', 'simulacra_goal_generator.yaml')\n",
    "target_agent_config = os.path.join('src', 'configs', 'nora.yaml')\n",
    "persona_fname = os.path.join('src', 'baseline_personas','2d33bd32-ca14-4ab2-813e-8b1eb0fea04d_English.json')"
   ]
  },
  {
   "cell_type": "code",
   "execution_count": null,
   "id": "c8060a48-e0db-4c80-ae5f-87bb4c8805f2",
   "metadata": {},
   "outputs": [],
   "source": [
    "# from agents.run_session import run_session_from_config\n",
    "# output = await run_session_from_config(\n",
    "#     persona_config=persona_fname,\n",
    "#     target_agent_config=target_agent_config,\n",
    "#     verbose=verbose,\n",
    "#     # num_goals=5,\n",
    "#     # max_turns=10,\n",
    "# )"
   ]
  },
  {
   "cell_type": "code",
   "execution_count": null,
   "id": "cb003d27",
   "metadata": {},
   "outputs": [],
   "source": [
    "# output['good_faith']"
   ]
  },
  {
   "cell_type": "markdown",
   "id": "7580f3cd",
   "metadata": {},
   "source": [
    "## Using the API\n",
    "\n",
    "Alternatively, you can use the API to run red teaming sessions. Start the API server first:\n",
    "\n",
    "```bash\n",
    "python app/api/run_api.py\n",
    "```\n",
    "\n",
    "The API will be available at `http://localhost:8000`. You can check the API documentation at `app/api/README.md`.\n",
    "\n",
    "Then use it programmatically:"
   ]
  },
  {
   "cell_type": "code",
   "execution_count": null,
   "id": "bad17dcc",
   "metadata": {},
   "outputs": [
    {
     "name": "stdout",
     "output_type": "stream",
     "text": [
      "Testing API connection...\n",
      "✅ API Status: healthy\n",
      "\n",
      "Running example session...\n",
      "❌ API request failed with status code: 404\n",
      "Response: {\"detail\":\"Not Found\"}\n"
     ]
    }
   ],
   "source": [
    "# Example using requests library to interact with the API\n",
    "import requests\n",
    "import json\n",
    "\n",
    "# API base URL\n",
    "API_BASE = \"http://localhost:8000\"\n",
    "\n",
    "def check_api_health():\n",
    "    \"\"\"Check if the API server is running\"\"\"\n",
    "    try:\n",
    "        response = requests.get(f\"{API_BASE}/health\")\n",
    "        if response.status_code == 200:\n",
    "            print(f\"✅ API Status: {response.json()['status']}\")\n",
    "            return True\n",
    "        else:\n",
    "            print(f\"❌ API returned status code: {response.status_code}\")\n",
    "            return False\n",
    "    except requests.exceptions.ConnectionError:\n",
    "        print(\"❌ API server is not running. Start it with: python app/api/run_api.py\")\n",
    "        return False\n",
    "    except Exception as e:\n",
    "        print(f\"❌ Error connecting to API: {e}\")\n",
    "        return False\n",
    "\n",
    "def run_session_via_api(persona_id, num_goals=5, max_turns=10, use_db=True):\n",
    "    \"\"\"Run a red teaming session via the API\"\"\"\n",
    "    session_data = {\n",
    "        \"persona_fname\": persona_id,  # Use persona ID for database lookup\n",
    "        \"num_goals\": num_goals,\n",
    "        \"max_turns\": max_turns,\n",
    "        \"use_db\": use_db,\n",
    "        \"verbose\": True\n",
    "    }\n",
    "    \n",
    "    try:\n",
    "        response = requests.post(f\"{API_BASE}/run-red-teaming-session\", json=session_data)\n",
    "        \n",
    "        if response.status_code == 200:\n",
    "            result = response.json()\n",
    "            if result.get(\"success\"):\n",
    "                print(f\"✅ Session completed successfully\")\n",
    "                print(f\"Session data keys: {list(result.get('session_data', {}).keys())}\")\n",
    "                return result\n",
    "            else:\n",
    "                print(f\"❌ Session failed: {result.get('error', 'Unknown error')}\")\n",
    "                return None\n",
    "        else:\n",
    "            print(f\"❌ API request failed with status code: {response.status_code}\")\n",
    "            print(f\"Response: {response.text}\")\n",
    "            return None\n",
    "            \n",
    "    except Exception as e:\n",
    "        print(f\"❌ Error making API request: {e}\")\n",
    "        return None\n",
    "\n",
    "def list_personas():\n",
    "    \"\"\"List available personas in the database\"\"\"\n",
    "    try:\n",
    "        response = requests.get(f\"{API_BASE}/personas\")\n",
    "        if response.status_code == 200:\n",
    "            personas = response.json()\n",
    "            print(f\"Found {len(personas)} personas:\")\n",
    "            for persona in personas[:5]:  # Show first 5\n",
    "                print(f\"  - {persona['id']} ({persona['response_language']})\")\n",
    "            if len(personas) > 5:\n",
    "                print(f\"  ... and {len(personas) - 5} more\")\n",
    "            return personas\n",
    "        else:\n",
    "            print(f\"❌ Failed to load personas: HTTP {response.status_code}\")\n",
    "            return []\n",
    "    except Exception as e:\n",
    "        print(f\"❌ Error loading personas: {e}\")\n",
    "        return []\n",
    "\n",
    "# Test the API\n",
    "print(\"Testing API connection...\")\n",
    "if check_api_health():\n",
    "    print(\"\\n📋 Available personas:\")\n",
    "    personas = list_personas()\n",
    "    \n",
    "    if personas:\n",
    "        print(f\"\\n🎯 Running example session with database persona...\")\n",
    "        # Use persona ID (database mode) instead of file path\n",
    "        example_persona_id = \"2d33bd32-ca14-4ab2-813e-8b1eb0fea04d_English\"\n",
    "        \n",
    "        result = run_session_via_api(example_persona_id, num_goals=2, max_turns=3, use_db=True)\n",
    "        \n",
    "        if result:\n",
    "            print(f\"\\n✅ Session completed! Check the results above.\")\n",
    "    \n",
    "    print(f\"\\n🌐 Streamlit Frontend Available!\")\n",
    "    print(f\"For a better user experience, use the Streamlit frontend:\")\n",
    "    print(f\"1. Run: python app/frontend/run_streamlit.py\")\n",
    "    print(f\"2. Open: http://localhost:8501\")\n",
    "    print(f\"3. Interactive interface with persona browser and session management\")\n",
    "    \n",
    "else:\n",
    "    print(\"Please start the API server first: python app/api/run_api.py\")"
   ]
  },
  {
   "cell_type": "markdown",
   "id": "dae310a5",
   "metadata": {},
   "source": [
    "## 🌐 Streamlit Frontend\n",
    "\n",
    "For a more user-friendly experience, we've created a Streamlit web interface that provides:\n",
    "\n",
    "### Features\n",
    "- **👥 Interactive Persona Browser**: Browse and select personas visually\n",
    "- **🎯 Session Configuration**: Easy-to-use forms for configuring red teaming sessions  \n",
    "- **📊 Results Visualization**: Formatted display of conversation results\n",
    "- **💾 Export Functionality**: Download session results as JSON files\n",
    "\n",
    "### Quick Start\n",
    "\n",
    "1. **Ensure API is running**:\n",
    "   ```bash\n",
    "   python app/api/run_api.py\n",
    "   ```\n",
    "\n",
    "2. **Start Streamlit frontend**:\n",
    "   ```bash\n",
    "   python app/frontend/run_streamlit.py\n",
    "   ```\n",
    "\n",
    "3. **Open in browser**: http://localhost:8501\n",
    "\n",
    "### Screenshots\n",
    "The Streamlit app provides three main pages:\n",
    "- **Browse Personas**: Grid view of all available personas with selection\n",
    "- **Run Session**: Configure and execute red teaming sessions\n",
    "- **Session Results**: View formatted conversation results with export options\n",
    "\n",
    "The interface is much more intuitive than the API calls below, especially for non-technical users!"
   ]
  }
 ],
 "metadata": {
  "kernelspec": {
   "display_name": "gdc-submission-ZOjdovQ4-py3.12",
   "language": "python",
   "name": "python3"
  },
  "language_info": {
   "codemirror_mode": {
    "name": "ipython",
    "version": 3
   },
   "file_extension": ".py",
   "mimetype": "text/x-python",
   "name": "python",
   "nbconvert_exporter": "python",
   "pygments_lexer": "ipython3",
   "version": "3.12.3"
  }
 },
 "nbformat": 4,
 "nbformat_minor": 5
}
